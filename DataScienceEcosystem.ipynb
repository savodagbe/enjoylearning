{
  "nbformat": 4,
  "nbformat_minor": 0,
  "metadata": {
    "colab": {
      "provenance": []
    },
    "kernelspec": {
      "name": "python3",
      "display_name": "Python 3"
    },
    "language_info": {
      "name": "python"
    }
  },
  "cells": [
    {
      "cell_type": "markdown",
      "source": [
        "# H1: Data Science Tools and Ecosystem"
      ],
      "metadata": {
        "id": "nN7Sove_9uQN"
      }
    },
    {
      "cell_type": "markdown",
      "source": [
        "### In this notebook, Data Science Tools and Ecosystem are summarized."
      ],
      "metadata": {
        "id": "gQwC56jz-pPJ"
      }
    },
    {
      "cell_type": "markdown",
      "source": [
        "### **Objectives:**\n",
        "- List popular languages for Data Science\n",
        "- List some of the commonly used libraries used by Data Scientists\n",
        "- List of 3 open source development environment\n",
        "- Arithmetic expression evaluation"
      ],
      "metadata": {
        "id": "ci4rfHqLGcDM"
      }
    },
    {
      "cell_type": "markdown",
      "source": [
        "### Some of the popular languages that Data Scientists use are:\n",
        "1. Python\n",
        "2. R\n",
        "3. Scala\n",
        "4. C++\n",
        "5. Java\n",
        "6. Julia"
      ],
      "metadata": {
        "id": "ZsE2K_Rt_Su2"
      }
    },
    {
      "cell_type": "markdown",
      "source": [
        "### Some of the commonly used libraries used by Data Scientists include:\n",
        "\n",
        "- Pandas\n",
        "- NumPy\n",
        "- Matplotlib\n",
        "- Seaborn"
      ],
      "metadata": {
        "id": "OsLPI3tXAQss"
      }
    },
    {
      "cell_type": "markdown",
      "source": [
        "| Data Science Tools|\n",
        "|-------------------|\n",
        "| Jupyter Lab       |\n",
        "| R Studio          |\n",
        "| Spyder            |"
      ],
      "metadata": {
        "id": "ncqKadUjA-9o"
      }
    },
    {
      "cell_type": "markdown",
      "source": [
        "### Below are a few examples of evaluating arithmetic expressions in Python"
      ],
      "metadata": {
        "id": "vkBg32OpCtQl"
      }
    },
    {
      "cell_type": "code",
      "source": [
        "# This a simple arithmetic expression to mutiply then add integers\n",
        "(3*4)+5"
      ],
      "metadata": {
        "colab": {
          "base_uri": "https://localhost:8080/"
        },
        "id": "jGR36I5lC8uV",
        "outputId": "dc1e0a55-ee73-47c0-935c-924b854d5879"
      },
      "execution_count": 1,
      "outputs": [
        {
          "output_type": "execute_result",
          "data": {
            "text/plain": [
              "17"
            ]
          },
          "metadata": {},
          "execution_count": 1
        }
      ]
    },
    {
      "cell_type": "code",
      "source": [
        "# This will convert 200 minutes to hours by diving by 60\n",
        "\n",
        "# Function\n",
        "def minutes_to_hours(minutes):\n",
        "    hours = minutes // 60  # Get the integer number of hours\n",
        "    remaining_minutes = minutes % 60  # Get the remaining minutes\n",
        "    return f\"{hours} hour(s) and {remaining_minutes} minute(s)\"\n",
        "\n",
        "# Function call\n",
        "\n",
        "minutes = 200\n",
        "result = minutes_to_hours(minutes)\n",
        "print(f\"{minutes} minutes is equal to: {result}\")\n",
        ""
      ],
      "metadata": {
        "colab": {
          "base_uri": "https://localhost:8080/"
        },
        "id": "j6YGRadZDdS2",
        "outputId": "bd7cc80f-252e-4209-e307-1b85245f5026"
      },
      "execution_count": 5,
      "outputs": [
        {
          "output_type": "stream",
          "name": "stdout",
          "text": [
            "200 minutes is equal to: 3 hour(s) and 20 minute(s)\n"
          ]
        }
      ]
    },
    {
      "cell_type": "markdown",
      "source": [
        "## Author\n",
        "Serges Avodagbe"
      ],
      "metadata": {
        "id": "g9YMB5GpH9mh"
      }
    }
  ]
}